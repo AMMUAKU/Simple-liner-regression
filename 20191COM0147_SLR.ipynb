{
  "nbformat": 4,
  "nbformat_minor": 0,
  "metadata": {
    "colab": {
      "name": "20191COM0147_SLR.ipynb",
      "provenance": [],
      "collapsed_sections": []
    },
    "kernelspec": {
      "name": "python3",
      "display_name": "Python 3"
    },
    "language_info": {
      "name": "python"
    }
  },
  "cells": [
    {
      "cell_type": "markdown",
      "metadata": {
        "id": "fQdH1TtZ46e6"
      },
      "source": [
        "# **SIMPLE LINEAR REGRESSION**"
      ]
    },
    {
      "cell_type": "markdown",
      "metadata": {
        "id": "frs0bwz75Cdp"
      },
      "source": [
        "**What is regression analysis**"
      ]
    },
    {
      "cell_type": "markdown",
      "metadata": {
        "id": "28PooP0G5-6V"
      },
      "source": [
        "** Regression is a type of regression analysis where the number of independent variables is one and there is a linear relationship between the independent(x) and dependent(y) variable.\n",
        "\n",
        "** Linear Regression is a supervised machine learning algorithm where the predicted output is continuous and has a constant slope. It's used to predict values within a continuous range, (e.g. sales, price) rather than trying to classify them into categories.\n",
        "\n",
        "** Here, we fit a curve/ line to the data points ,in such a manner that the differences between the distances of data points from the curve or line is minimized."
      ]
    },
    {
      "cell_type": "markdown",
      "metadata": {
        "id": "KSYn2rbr7NBh"
      },
      "source": [
        "**Two types of liner model**"
      ]
    },
    {
      "cell_type": "markdown",
      "metadata": {
        "id": "hBhCNzZ_7RB_"
      },
      "source": [
        "** Linear Regression is generally classified into two types: Simple Linear Regression. Multiple Linear Regression"
      ]
    },
    {
      "cell_type": "markdown",
      "metadata": {
        "id": "s1p81I757VHf"
      },
      "source": [
        "Regression analysis predict the relationship between two or more features.\n",
        "The benifit of using regresion analysis are as follows:\n",
        "\n",
        "** It shows the significant relationships between the label and the features.\n",
        "** It indicates the strength of impact of multiple independent  variabales on dependent variables"
      ]
    },
    {
      "cell_type": "markdown",
      "metadata": {
        "id": "gm5twAy47xBQ"
      },
      "source": [
        "**LINEAR REGRESSION**"
      ]
    },
    {
      "cell_type": "markdown",
      "metadata": {
        "id": "q4SZMUvU742U"
      },
      "source": [
        "** Linear regression is a supervised techmique.\n",
        "\n",
        "** Linear Regression is a stastical analysis for predicting the values of a quantitative variable.\n",
        "\n",
        "** In this technique , the dependent variable is continous ,independent variable can be contionous or discrete , and nature of regression line is linear.\n",
        "\n",
        "** Linear reression establishes a relationship between dependent variable(Y) and one or more independent variables (X)inpendent variables(X) usin a best fit straight line(also known as regression line).\n",
        "\n",
        "Y=m*X+b+e\n",
        "where b is intercept of y\n",
        "m is the slope of the line\n",
        "e is the error term\n"
      ]
    },
    {
      "cell_type": "markdown",
      "metadata": {
        "id": "SXqZRV-B8ZYZ"
      },
      "source": [
        ""
      ]
    },
    {
      "cell_type": "markdown",
      "metadata": {
        "id": "rmyq368n8aYo"
      },
      "source": [
        "Loading basic libraries"
      ]
    },
    {
      "cell_type": "code",
      "metadata": {
        "id": "BaAGi6vs2xjL"
      },
      "source": [
        "import numpy as np\n",
        "import pandas as pd \n",
        "import matplotlib.pyplot as plt"
      ],
      "execution_count": null,
      "outputs": []
    },
    {
      "cell_type": "markdown",
      "metadata": {
        "id": "xMj3BBzf8gFu"
      },
      "source": [
        "Loading the data set"
      ]
    },
    {
      "cell_type": "code",
      "metadata": {
        "id": "mNyeB3OM8iUO"
      },
      "source": [
        "df = pd.read_csv(\"/content/salary_data.csv\")"
      ],
      "execution_count": null,
      "outputs": []
    },
    {
      "cell_type": "markdown",
      "metadata": {
        "id": "FHKS3epq84mq"
      },
      "source": [
        "Basic Information of data "
      ]
    },
    {
      "cell_type": "markdown",
      "metadata": {
        "id": "6GFUyEki85Xo"
      },
      "source": [
        "checking shape(Row,columns) of the DataFrame"
      ]
    },
    {
      "cell_type": "code",
      "metadata": {
        "colab": {
          "base_uri": "https://localhost:8080/"
        },
        "id": "gs1_UtuQ88_M",
        "outputId": "a5bdc020-fedf-46f8-c1cb-2ba5f7d7761b"
      },
      "source": [
        "df.shape"
      ],
      "execution_count": null,
      "outputs": [
        {
          "output_type": "execute_result",
          "data": {
            "text/plain": [
              "(30, 2)"
            ]
          },
          "metadata": {},
          "execution_count": 8
        }
      ]
    },
    {
      "cell_type": "code",
      "metadata": {
        "colab": {
          "base_uri": "https://localhost:8080/",
          "height": 206
        },
        "id": "UjL4fHAm9D5e",
        "outputId": "8658d0d5-5b08-4989-ddd3-88b1c6bdddc4"
      },
      "source": [
        "df.head()  #shows first five rows of the dataset"
      ],
      "execution_count": null,
      "outputs": [
        {
          "output_type": "execute_result",
          "data": {
            "text/html": [
              "<div>\n",
              "<style scoped>\n",
              "    .dataframe tbody tr th:only-of-type {\n",
              "        vertical-align: middle;\n",
              "    }\n",
              "\n",
              "    .dataframe tbody tr th {\n",
              "        vertical-align: top;\n",
              "    }\n",
              "\n",
              "    .dataframe thead th {\n",
              "        text-align: right;\n",
              "    }\n",
              "</style>\n",
              "<table border=\"1\" class=\"dataframe\">\n",
              "  <thead>\n",
              "    <tr style=\"text-align: right;\">\n",
              "      <th></th>\n",
              "      <th>YearsExperience</th>\n",
              "      <th>Salary</th>\n",
              "    </tr>\n",
              "  </thead>\n",
              "  <tbody>\n",
              "    <tr>\n",
              "      <th>0</th>\n",
              "      <td>1.1</td>\n",
              "      <td>39343.0</td>\n",
              "    </tr>\n",
              "    <tr>\n",
              "      <th>1</th>\n",
              "      <td>1.3</td>\n",
              "      <td>46205.0</td>\n",
              "    </tr>\n",
              "    <tr>\n",
              "      <th>2</th>\n",
              "      <td>1.5</td>\n",
              "      <td>37731.0</td>\n",
              "    </tr>\n",
              "    <tr>\n",
              "      <th>3</th>\n",
              "      <td>2.0</td>\n",
              "      <td>43525.0</td>\n",
              "    </tr>\n",
              "    <tr>\n",
              "      <th>4</th>\n",
              "      <td>2.2</td>\n",
              "      <td>39891.0</td>\n",
              "    </tr>\n",
              "  </tbody>\n",
              "</table>\n",
              "</div>"
            ],
            "text/plain": [
              "   YearsExperience   Salary\n",
              "0              1.1  39343.0\n",
              "1              1.3  46205.0\n",
              "2              1.5  37731.0\n",
              "3              2.0  43525.0\n",
              "4              2.2  39891.0"
            ]
          },
          "metadata": {},
          "execution_count": 9
        }
      ]
    },
    {
      "cell_type": "code",
      "metadata": {
        "colab": {
          "base_uri": "https://localhost:8080/",
          "height": 206
        },
        "id": "e_WnUu8E9Gsi",
        "outputId": "f04544a3-fdd0-4fc1-bc4a-d348b26a863a"
      },
      "source": [
        "df.tail()  # shows last five rows of the dataset"
      ],
      "execution_count": null,
      "outputs": [
        {
          "output_type": "execute_result",
          "data": {
            "text/html": [
              "<div>\n",
              "<style scoped>\n",
              "    .dataframe tbody tr th:only-of-type {\n",
              "        vertical-align: middle;\n",
              "    }\n",
              "\n",
              "    .dataframe tbody tr th {\n",
              "        vertical-align: top;\n",
              "    }\n",
              "\n",
              "    .dataframe thead th {\n",
              "        text-align: right;\n",
              "    }\n",
              "</style>\n",
              "<table border=\"1\" class=\"dataframe\">\n",
              "  <thead>\n",
              "    <tr style=\"text-align: right;\">\n",
              "      <th></th>\n",
              "      <th>YearsExperience</th>\n",
              "      <th>Salary</th>\n",
              "    </tr>\n",
              "  </thead>\n",
              "  <tbody>\n",
              "    <tr>\n",
              "      <th>25</th>\n",
              "      <td>9.0</td>\n",
              "      <td>105582.0</td>\n",
              "    </tr>\n",
              "    <tr>\n",
              "      <th>26</th>\n",
              "      <td>9.5</td>\n",
              "      <td>116969.0</td>\n",
              "    </tr>\n",
              "    <tr>\n",
              "      <th>27</th>\n",
              "      <td>9.6</td>\n",
              "      <td>112635.0</td>\n",
              "    </tr>\n",
              "    <tr>\n",
              "      <th>28</th>\n",
              "      <td>10.3</td>\n",
              "      <td>122391.0</td>\n",
              "    </tr>\n",
              "    <tr>\n",
              "      <th>29</th>\n",
              "      <td>10.5</td>\n",
              "      <td>121872.0</td>\n",
              "    </tr>\n",
              "  </tbody>\n",
              "</table>\n",
              "</div>"
            ],
            "text/plain": [
              "    YearsExperience    Salary\n",
              "25              9.0  105582.0\n",
              "26              9.5  116969.0\n",
              "27              9.6  112635.0\n",
              "28             10.3  122391.0\n",
              "29             10.5  121872.0"
            ]
          },
          "metadata": {},
          "execution_count": 10
        }
      ]
    },
    {
      "cell_type": "code",
      "metadata": {
        "colab": {
          "base_uri": "https://localhost:8080/",
          "height": 300
        },
        "id": "2MATW9WG9aEp",
        "outputId": "b3259191-8005-4417-d9b5-160ca1332af7"
      },
      "source": [
        "df.sample(8)   #shows random rows of dataset"
      ],
      "execution_count": null,
      "outputs": [
        {
          "output_type": "execute_result",
          "data": {
            "text/html": [
              "<div>\n",
              "<style scoped>\n",
              "    .dataframe tbody tr th:only-of-type {\n",
              "        vertical-align: middle;\n",
              "    }\n",
              "\n",
              "    .dataframe tbody tr th {\n",
              "        vertical-align: top;\n",
              "    }\n",
              "\n",
              "    .dataframe thead th {\n",
              "        text-align: right;\n",
              "    }\n",
              "</style>\n",
              "<table border=\"1\" class=\"dataframe\">\n",
              "  <thead>\n",
              "    <tr style=\"text-align: right;\">\n",
              "      <th></th>\n",
              "      <th>YearsExperience</th>\n",
              "      <th>Salary</th>\n",
              "    </tr>\n",
              "  </thead>\n",
              "  <tbody>\n",
              "    <tr>\n",
              "      <th>17</th>\n",
              "      <td>5.3</td>\n",
              "      <td>83088.0</td>\n",
              "    </tr>\n",
              "    <tr>\n",
              "      <th>5</th>\n",
              "      <td>2.9</td>\n",
              "      <td>56642.0</td>\n",
              "    </tr>\n",
              "    <tr>\n",
              "      <th>27</th>\n",
              "      <td>9.6</td>\n",
              "      <td>112635.0</td>\n",
              "    </tr>\n",
              "    <tr>\n",
              "      <th>24</th>\n",
              "      <td>8.7</td>\n",
              "      <td>109431.0</td>\n",
              "    </tr>\n",
              "    <tr>\n",
              "      <th>28</th>\n",
              "      <td>10.3</td>\n",
              "      <td>122391.0</td>\n",
              "    </tr>\n",
              "    <tr>\n",
              "      <th>2</th>\n",
              "      <td>1.5</td>\n",
              "      <td>37731.0</td>\n",
              "    </tr>\n",
              "    <tr>\n",
              "      <th>29</th>\n",
              "      <td>10.5</td>\n",
              "      <td>121872.0</td>\n",
              "    </tr>\n",
              "    <tr>\n",
              "      <th>6</th>\n",
              "      <td>3.0</td>\n",
              "      <td>60150.0</td>\n",
              "    </tr>\n",
              "  </tbody>\n",
              "</table>\n",
              "</div>"
            ],
            "text/plain": [
              "    YearsExperience    Salary\n",
              "17              5.3   83088.0\n",
              "5               2.9   56642.0\n",
              "27              9.6  112635.0\n",
              "24              8.7  109431.0\n",
              "28             10.3  122391.0\n",
              "2               1.5   37731.0\n",
              "29             10.5  121872.0\n",
              "6               3.0   60150.0"
            ]
          },
          "metadata": {},
          "execution_count": 11
        }
      ]
    },
    {
      "cell_type": "markdown",
      "metadata": {
        "id": "uo5ptVx39mjL"
      },
      "source": [
        "Checking the Data types of features:"
      ]
    },
    {
      "cell_type": "code",
      "metadata": {
        "colab": {
          "base_uri": "https://localhost:8080/"
        },
        "id": "tMlvbHOq9jSH",
        "outputId": "a9f8e024-1650-48ef-c5e2-ab74629debe2"
      },
      "source": [
        "df.dtypes"
      ],
      "execution_count": null,
      "outputs": [
        {
          "output_type": "execute_result",
          "data": {
            "text/plain": [
              "YearsExperience    float64\n",
              "Salary             float64\n",
              "dtype: object"
            ]
          },
          "metadata": {},
          "execution_count": 12
        }
      ]
    },
    {
      "cell_type": "markdown",
      "metadata": {
        "id": "4bCkIRr59tZ2"
      },
      "source": [
        "Describing the DataFrame statistically"
      ]
    },
    {
      "cell_type": "code",
      "metadata": {
        "colab": {
          "base_uri": "https://localhost:8080/",
          "height": 300
        },
        "id": "jFZEemrY9uuO",
        "outputId": "b1e8b859-0d3b-4aa7-e700-dfecdb86b92b"
      },
      "source": [
        "df.describe()"
      ],
      "execution_count": null,
      "outputs": [
        {
          "output_type": "execute_result",
          "data": {
            "text/html": [
              "<div>\n",
              "<style scoped>\n",
              "    .dataframe tbody tr th:only-of-type {\n",
              "        vertical-align: middle;\n",
              "    }\n",
              "\n",
              "    .dataframe tbody tr th {\n",
              "        vertical-align: top;\n",
              "    }\n",
              "\n",
              "    .dataframe thead th {\n",
              "        text-align: right;\n",
              "    }\n",
              "</style>\n",
              "<table border=\"1\" class=\"dataframe\">\n",
              "  <thead>\n",
              "    <tr style=\"text-align: right;\">\n",
              "      <th></th>\n",
              "      <th>YearsExperience</th>\n",
              "      <th>Salary</th>\n",
              "    </tr>\n",
              "  </thead>\n",
              "  <tbody>\n",
              "    <tr>\n",
              "      <th>count</th>\n",
              "      <td>30.000000</td>\n",
              "      <td>30.000000</td>\n",
              "    </tr>\n",
              "    <tr>\n",
              "      <th>mean</th>\n",
              "      <td>5.313333</td>\n",
              "      <td>76003.000000</td>\n",
              "    </tr>\n",
              "    <tr>\n",
              "      <th>std</th>\n",
              "      <td>2.837888</td>\n",
              "      <td>27414.429785</td>\n",
              "    </tr>\n",
              "    <tr>\n",
              "      <th>min</th>\n",
              "      <td>1.100000</td>\n",
              "      <td>37731.000000</td>\n",
              "    </tr>\n",
              "    <tr>\n",
              "      <th>25%</th>\n",
              "      <td>3.200000</td>\n",
              "      <td>56720.750000</td>\n",
              "    </tr>\n",
              "    <tr>\n",
              "      <th>50%</th>\n",
              "      <td>4.700000</td>\n",
              "      <td>65237.000000</td>\n",
              "    </tr>\n",
              "    <tr>\n",
              "      <th>75%</th>\n",
              "      <td>7.700000</td>\n",
              "      <td>100544.750000</td>\n",
              "    </tr>\n",
              "    <tr>\n",
              "      <th>max</th>\n",
              "      <td>10.500000</td>\n",
              "      <td>122391.000000</td>\n",
              "    </tr>\n",
              "  </tbody>\n",
              "</table>\n",
              "</div>"
            ],
            "text/plain": [
              "       YearsExperience         Salary\n",
              "count        30.000000      30.000000\n",
              "mean          5.313333   76003.000000\n",
              "std           2.837888   27414.429785\n",
              "min           1.100000   37731.000000\n",
              "25%           3.200000   56720.750000\n",
              "50%           4.700000   65237.000000\n",
              "75%           7.700000  100544.750000\n",
              "max          10.500000  122391.000000"
            ]
          },
          "metadata": {},
          "execution_count": 13
        }
      ]
    },
    {
      "cell_type": "markdown",
      "metadata": {
        "id": "L-HyCSZV94pf"
      },
      "source": [
        "Information of Datafrmae:"
      ]
    },
    {
      "cell_type": "code",
      "metadata": {
        "colab": {
          "base_uri": "https://localhost:8080/"
        },
        "id": "cZ0YlVbq954z",
        "outputId": "c5062792-a126-46c8-d0a4-c2730139ea5c"
      },
      "source": [
        "df.info()"
      ],
      "execution_count": null,
      "outputs": [
        {
          "output_type": "stream",
          "name": "stdout",
          "text": [
            "<class 'pandas.core.frame.DataFrame'>\n",
            "RangeIndex: 30 entries, 0 to 29\n",
            "Data columns (total 2 columns):\n",
            " #   Column           Non-Null Count  Dtype  \n",
            "---  ------           --------------  -----  \n",
            " 0   YearsExperience  30 non-null     float64\n",
            " 1   Salary           30 non-null     float64\n",
            "dtypes: float64(2)\n",
            "memory usage: 608.0 bytes\n"
          ]
        }
      ]
    },
    {
      "cell_type": "markdown",
      "metadata": {
        "id": "Hv1W8cmc9_z3"
      },
      "source": [
        "\n",
        "**Data Cleaning:**"
      ]
    },
    {
      "cell_type": "markdown",
      "metadata": {
        "id": "B9G5coPc-B5q"
      },
      "source": [
        "Dropping the duplicates:"
      ]
    },
    {
      "cell_type": "code",
      "metadata": {
        "colab": {
          "base_uri": "https://localhost:8080/"
        },
        "id": "IdeGXlg6-BdS",
        "outputId": "d480978e-07bb-49c4-9f5a-93e0274b8ea9"
      },
      "source": [
        "df.shape"
      ],
      "execution_count": null,
      "outputs": [
        {
          "output_type": "execute_result",
          "data": {
            "text/plain": [
              "(30, 2)"
            ]
          },
          "metadata": {},
          "execution_count": 15
        }
      ]
    },
    {
      "cell_type": "code",
      "metadata": {
        "id": "3tHxEMV_-ILn"
      },
      "source": [
        "df=df.drop_duplicates()   # drops rows and columns if any in the dataset"
      ],
      "execution_count": null,
      "outputs": []
    },
    {
      "cell_type": "code",
      "metadata": {
        "colab": {
          "base_uri": "https://localhost:8080/"
        },
        "id": "xjr5ILxU-LHQ",
        "outputId": "69b7c58e-7dc2-4bc8-c038-37f1a673597d"
      },
      "source": [
        "df.shape"
      ],
      "execution_count": null,
      "outputs": [
        {
          "output_type": "execute_result",
          "data": {
            "text/plain": [
              "(30, 2)"
            ]
          },
          "metadata": {},
          "execution_count": 17
        }
      ]
    },
    {
      "cell_type": "markdown",
      "metadata": {
        "id": "RgzbqEw2-b-V"
      },
      "source": [
        "here we have a row of duplicates"
      ]
    },
    {
      "cell_type": "markdown",
      "metadata": {
        "id": "QMW9E-FN-iKt"
      },
      "source": [
        "Checking the null vaues"
      ]
    },
    {
      "cell_type": "code",
      "metadata": {
        "colab": {
          "base_uri": "https://localhost:8080/"
        },
        "id": "dB1ofoAg-Z12",
        "outputId": "5d248a89-4dc8-49a5-8390-d0f4e8c5201b"
      },
      "source": [
        "df.isnull().sum()"
      ],
      "execution_count": null,
      "outputs": [
        {
          "output_type": "execute_result",
          "data": {
            "text/plain": [
              "YearsExperience    0\n",
              "Salary             0\n",
              "dtype: int64"
            ]
          },
          "metadata": {},
          "execution_count": 18
        }
      ]
    },
    {
      "cell_type": "markdown",
      "metadata": {
        "id": "CAy0Vc2c-pCU"
      },
      "source": [
        "there are no null values in dataset"
      ]
    },
    {
      "cell_type": "markdown",
      "metadata": {
        "id": "CpRWsN_j-6Oj"
      },
      "source": [
        "Create a Dependent(y) and independent(X) variable:"
      ]
    },
    {
      "cell_type": "code",
      "metadata": {
        "id": "dk32rek3-8tn"
      },
      "source": [
        "target_feature='Salary'\n",
        "\n",
        "# Seperate object for target variable(dependent variable)\n",
        "y=df[target_feature]\n",
        "\n",
        "# Seperate object for input etures\n",
        "X=df.drop(target_feature,axis=1)"
      ],
      "execution_count": null,
      "outputs": []
    },
    {
      "cell_type": "code",
      "metadata": {
        "colab": {
          "base_uri": "https://localhost:8080/"
        },
        "id": "cH9CCE4Q_SoR",
        "outputId": "9ced408d-d801-42ef-ea1b-25087fac7ab9"
      },
      "source": [
        "X.shape"
      ],
      "execution_count": null,
      "outputs": [
        {
          "output_type": "execute_result",
          "data": {
            "text/plain": [
              "(30, 1)"
            ]
          },
          "metadata": {},
          "execution_count": 22
        }
      ]
    },
    {
      "cell_type": "code",
      "metadata": {
        "colab": {
          "base_uri": "https://localhost:8080/",
          "height": 206
        },
        "id": "3SUVeA3Z_aDu",
        "outputId": "40adb085-4b32-4a5f-b5c8-17f5d1b32642"
      },
      "source": [
        "X.head()"
      ],
      "execution_count": null,
      "outputs": [
        {
          "output_type": "execute_result",
          "data": {
            "text/html": [
              "<div>\n",
              "<style scoped>\n",
              "    .dataframe tbody tr th:only-of-type {\n",
              "        vertical-align: middle;\n",
              "    }\n",
              "\n",
              "    .dataframe tbody tr th {\n",
              "        vertical-align: top;\n",
              "    }\n",
              "\n",
              "    .dataframe thead th {\n",
              "        text-align: right;\n",
              "    }\n",
              "</style>\n",
              "<table border=\"1\" class=\"dataframe\">\n",
              "  <thead>\n",
              "    <tr style=\"text-align: right;\">\n",
              "      <th></th>\n",
              "      <th>YearsExperience</th>\n",
              "    </tr>\n",
              "  </thead>\n",
              "  <tbody>\n",
              "    <tr>\n",
              "      <th>0</th>\n",
              "      <td>1.1</td>\n",
              "    </tr>\n",
              "    <tr>\n",
              "      <th>1</th>\n",
              "      <td>1.3</td>\n",
              "    </tr>\n",
              "    <tr>\n",
              "      <th>2</th>\n",
              "      <td>1.5</td>\n",
              "    </tr>\n",
              "    <tr>\n",
              "      <th>3</th>\n",
              "      <td>2.0</td>\n",
              "    </tr>\n",
              "    <tr>\n",
              "      <th>4</th>\n",
              "      <td>2.2</td>\n",
              "    </tr>\n",
              "  </tbody>\n",
              "</table>\n",
              "</div>"
            ],
            "text/plain": [
              "   YearsExperience\n",
              "0              1.1\n",
              "1              1.3\n",
              "2              1.5\n",
              "3              2.0\n",
              "4              2.2"
            ]
          },
          "metadata": {},
          "execution_count": 23
        }
      ]
    },
    {
      "cell_type": "code",
      "metadata": {
        "colab": {
          "base_uri": "https://localhost:8080/"
        },
        "id": "m7pY_ldN_c7-",
        "outputId": "f2878d13-05a4-4f58-b082-dafb963d65ca"
      },
      "source": [
        "y.shape"
      ],
      "execution_count": null,
      "outputs": [
        {
          "output_type": "execute_result",
          "data": {
            "text/plain": [
              "(30,)"
            ]
          },
          "metadata": {},
          "execution_count": 24
        }
      ]
    },
    {
      "cell_type": "code",
      "metadata": {
        "colab": {
          "base_uri": "https://localhost:8080/"
        },
        "id": "5642BV2d_e9m",
        "outputId": "d9f1b5b4-8499-4a49-e051-b9265bba2d16"
      },
      "source": [
        "y.head()"
      ],
      "execution_count": null,
      "outputs": [
        {
          "output_type": "execute_result",
          "data": {
            "text/plain": [
              "0    39343.0\n",
              "1    46205.0\n",
              "2    37731.0\n",
              "3    43525.0\n",
              "4    39891.0\n",
              "Name: Salary, dtype: float64"
            ]
          },
          "metadata": {},
          "execution_count": 25
        }
      ]
    },
    {
      "cell_type": "markdown",
      "metadata": {
        "id": "nqYmGj7s_krn"
      },
      "source": [
        "**Data visualiztion before Train the Model**"
      ]
    },
    {
      "cell_type": "code",
      "metadata": {
        "colab": {
          "base_uri": "https://localhost:8080/",
          "height": 279
        },
        "id": "Wg-9vJhK_mtq",
        "outputId": "43b06400-4732-487b-cf20-501ed2dbc71b"
      },
      "source": [
        "plt.scatter(X,y)\n",
        "plt.xlabel(\"YearsExperience\")\n",
        "plt.ylabel(\"Salary\")\n",
        "plt.grid()\n",
        "plt.show()"
      ],
      "execution_count": null,
      "outputs": [
        {
          "output_type": "display_data",
          "data": {
            "image/png": "[encoded data removed]",
            "text/plain": [
              "<Figure size 432x288 with 1 Axes>"
            ]
          },
          "metadata": {
            "needs_background": "light"
          }
        }
      ]
    },
    {
      "cell_type": "code",
      "metadata": {
        "colab": {
          "base_uri": "https://localhost:8080/",
          "height": 284
        },
        "id": "MNOLFw2lAz4T",
        "outputId": "7bc76094-6d50-4ce2-8f71-e7943adcdab3"
      },
      "source": [
        "plt.scatter(df.Salary,df.YearsExperience,color='red')"
      ],
      "execution_count": null,
      "outputs": [
        {
          "output_type": "execute_result",
          "data": {
            "text/plain": [
              "<matplotlib.collections.PathCollection at 0x7fb3fad097d0>"
            ]
          },
          "metadata": {},
          "execution_count": 30
        },
        {
          "output_type": "display_data",
          "data": {
            "image/png": "[encoded data removed]",
            "text/plain": [
              "<Figure size 432x288 with 1 Axes>"
            ]
          },
          "metadata": {
            "needs_background": "light"
          }
        }
      ]
    },
    {
      "cell_type": "code",
      "metadata": {
        "colab": {
          "base_uri": "https://localhost:8080/",
          "height": 337
        },
        "id": "SjVPRPwfBYXe",
        "outputId": "9e7f5bd7-9607-413d-c1e6-1f8277182ee1"
      },
      "source": [
        "df.hist()"
      ],
      "execution_count": null,
      "outputs": [
        {
          "output_type": "execute_result",
          "data": {
            "text/plain": [
              "array([[<matplotlib.axes._subplots.AxesSubplot object at 0x7fb3fac79750>,\n",
              "        <matplotlib.axes._subplots.AxesSubplot object at 0x7fb3fac27d50>]],\n",
              "      dtype=object)"
            ]
          },
          "metadata": {},
          "execution_count": 31
        },
        {
          "output_type": "display_data",
          "data": {
            "image/png": "[encoded data removed]",
            "text/plain": [
              "<Figure size 432x288 with 2 Axes>"
            ]
          },
          "metadata": {
            "needs_background": "light"
          }
        }
      ]
    },
    {
      "cell_type": "markdown",
      "metadata": {
        "id": "ewLnRLE0BeR5"
      },
      "source": [
        "**Split Dataset into Train and Test**"
      ]
    },
    {
      "cell_type": "code",
      "metadata": {
        "id": "rUmrOdn6Bin5"
      },
      "source": [
        "# to split dataset into train and test we have to import sklean library with model selection\n",
        "from sklearn.model_selection import train_test_split"
      ],
      "execution_count": null,
      "outputs": []
    },
    {
      "cell_type": "code",
      "metadata": {
        "id": "NP9eemfzBj0X"
      },
      "source": [
        "#splitting the data into train and test with test size 20%\n",
        "x_train,x_test,y_train,y_test=train_test_split(X,y,test_size=0.2,random_state=0)"
      ],
      "execution_count": null,
      "outputs": []
    },
    {
      "cell_type": "code",
      "metadata": {
        "colab": {
          "base_uri": "https://localhost:8080/"
        },
        "id": "s_DV9O2MBncc",
        "outputId": "e3292197-1b75-403e-e293-70aa9a84780e"
      },
      "source": [
        "x_train.shape,y_train.shape # 80% of train data takes 491 rows"
      ],
      "execution_count": null,
      "outputs": [
        {
          "output_type": "execute_result",
          "data": {
            "text/plain": [
              "((24, 1), (24,))"
            ]
          },
          "metadata": {},
          "execution_count": 34
        }
      ]
    },
    {
      "cell_type": "code",
      "metadata": {
        "colab": {
          "base_uri": "https://localhost:8080/"
        },
        "id": "8RMdLeKTBzTh",
        "outputId": "d78fed3f-457f-4e44-f40c-d4bd36a862fe"
      },
      "source": [
        "x_test.shape,y_test.shape  #20% of test data takes 123 rows"
      ],
      "execution_count": null,
      "outputs": [
        {
          "output_type": "execute_result",
          "data": {
            "text/plain": [
              "((6, 1), (6,))"
            ]
          },
          "metadata": {},
          "execution_count": 35
        }
      ]
    },
    {
      "cell_type": "markdown",
      "metadata": {
        "id": "MLF8Jy_KBbvh"
      },
      "source": [
        "**Apply linear Regression on Train Dataset:**"
      ]
    },
    {
      "cell_type": "code",
      "metadata": {
        "id": "woA_j40iB8e8"
      },
      "source": [
        "# to perform linear regression first we have to import linear regression algorithm from sklearn model.linra_model\n",
        "from sklearn.linear_model import LinearRegression"
      ],
      "execution_count": null,
      "outputs": []
    },
    {
      "cell_type": "code",
      "metadata": {
        "id": "t-mnxpeEB_2h"
      },
      "source": [
        "reg=LinearRegression()  # our training model which will implement the Linear Regression"
      ],
      "execution_count": null,
      "outputs": []
    },
    {
      "cell_type": "code",
      "metadata": {
        "colab": {
          "base_uri": "https://localhost:8080/"
        },
        "id": "U504fE-CCCuJ",
        "outputId": "d2b10ffb-cca0-4e4c-a2ab-1875275d7e07"
      },
      "source": [
        "reg.fit(x_train,y_train)  # train the train data with fit method "
      ],
      "execution_count": null,
      "outputs": [
        {
          "output_type": "execute_result",
          "data": {
            "text/plain": [
              "LinearRegression(copy_X=True, fit_intercept=True, n_jobs=None, normalize=False)"
            ]
          },
          "metadata": {},
          "execution_count": 38
        }
      ]
    },
    {
      "cell_type": "markdown",
      "metadata": {
        "id": "qBUR22-4CVUO"
      },
      "source": [
        "\n",
        "**Geting the paramters**"
      ]
    },
    {
      "cell_type": "code",
      "metadata": {
        "colab": {
          "base_uri": "https://localhost:8080/"
        },
        "id": "rKEmjIrSCWf5",
        "outputId": "e59b3aec-c716-4857-cde8-5bef90834baa"
      },
      "source": [
        "reg.intercept_\n",
        "print('intercept(b) is :',reg.intercept_)"
      ],
      "execution_count": null,
      "outputs": [
        {
          "output_type": "stream",
          "name": "stdout",
          "text": [
            "intercept(b) is : 26780.09915062818\n"
          ]
        }
      ]
    },
    {
      "cell_type": "code",
      "metadata": {
        "id": "NttbFZxGJ6kt",
        "colab": {
          "base_uri": "https://localhost:8080/"
        },
        "outputId": "6b574784-8b0f-4d6d-be2a-8d954560053e"
      },
      "source": [
        "reg.coef_\n",
        "print('coefficient (m) is :',reg.coef_)"
      ],
      "execution_count": null,
      "outputs": [
        {
          "output_type": "stream",
          "name": "stdout",
          "text": [
            "coefficient (m) is : [9312.57512673]\n"
          ]
        }
      ]
    },
    {
      "cell_type": "markdown",
      "metadata": {
        "id": "keCjsSMTJ8c1"
      },
      "source": [
        "\n",
        "**Apply the model on test Dataset to get the predicted values**"
      ]
    },
    {
      "cell_type": "code",
      "metadata": {
        "id": "qxfWxVOcJ9xi",
        "colab": {
          "base_uri": "https://localhost:8080/"
        },
        "outputId": "578a5efd-4e77-4ed2-a0fd-5f76933e939b"
      },
      "source": [
        "y_pred=reg.predict(x_test)\n",
        "y_pred"
      ],
      "execution_count": null,
      "outputs": [
        {
          "output_type": "execute_result",
          "data": {
            "text/plain": [
              "array([ 40748.96184072, 122699.62295594,  64961.65717022,  63099.14214487,\n",
              "       115249.56285456, 107799.50275317])"
            ]
          },
          "metadata": {},
          "execution_count": 41
        }
      ]
    },
    {
      "cell_type": "code",
      "metadata": {
        "id": "zyobB4E6KAgz",
        "colab": {
          "base_uri": "https://localhost:8080/"
        },
        "outputId": "577614fe-0af2-4e38-9cf7-1d532ce20256"
      },
      "source": [
        "y_pred.shape"
      ],
      "execution_count": null,
      "outputs": [
        {
          "output_type": "execute_result",
          "data": {
            "text/plain": [
              "(6,)"
            ]
          },
          "metadata": {},
          "execution_count": 42
        }
      ]
    },
    {
      "cell_type": "markdown",
      "metadata": {
        "id": "JrnS-Ac7KCSV"
      },
      "source": [
        "**Comparing the actual output values with the predicted values:**"
      ]
    },
    {
      "cell_type": "code",
      "metadata": {
        "id": "Yswh3v75KD0C"
      },
      "source": [
        "df1=pd.DataFrame({'Actual': y_test, 'Predicted': y_pred,'varaince':(y_test-y_pred)})"
      ],
      "execution_count": null,
      "outputs": []
    },
    {
      "cell_type": "code",
      "metadata": {
        "id": "Agw7PJH9KFco",
        "colab": {
          "base_uri": "https://localhost:8080/",
          "height": 237
        },
        "outputId": "60b90a19-725f-40ee-b1c0-54cdb7f61585"
      },
      "source": [
        "df1"
      ],
      "execution_count": null,
      "outputs": [
        {
          "output_type": "execute_result",
          "data": {
            "text/html": [
              "<div>\n",
              "<style scoped>\n",
              "    .dataframe tbody tr th:only-of-type {\n",
              "        vertical-align: middle;\n",
              "    }\n",
              "\n",
              "    .dataframe tbody tr th {\n",
              "        vertical-align: top;\n",
              "    }\n",
              "\n",
              "    .dataframe thead th {\n",
              "        text-align: right;\n",
              "    }\n",
              "</style>\n",
              "<table border=\"1\" class=\"dataframe\">\n",
              "  <thead>\n",
              "    <tr style=\"text-align: right;\">\n",
              "      <th></th>\n",
              "      <th>Actual</th>\n",
              "      <th>Predicted</th>\n",
              "      <th>varaince</th>\n",
              "    </tr>\n",
              "  </thead>\n",
              "  <tbody>\n",
              "    <tr>\n",
              "      <th>2</th>\n",
              "      <td>37731.0</td>\n",
              "      <td>40748.961841</td>\n",
              "      <td>-3017.961841</td>\n",
              "    </tr>\n",
              "    <tr>\n",
              "      <th>28</th>\n",
              "      <td>122391.0</td>\n",
              "      <td>122699.622956</td>\n",
              "      <td>-308.622956</td>\n",
              "    </tr>\n",
              "    <tr>\n",
              "      <th>13</th>\n",
              "      <td>57081.0</td>\n",
              "      <td>64961.657170</td>\n",
              "      <td>-7880.657170</td>\n",
              "    </tr>\n",
              "    <tr>\n",
              "      <th>10</th>\n",
              "      <td>63218.0</td>\n",
              "      <td>63099.142145</td>\n",
              "      <td>118.857855</td>\n",
              "    </tr>\n",
              "    <tr>\n",
              "      <th>26</th>\n",
              "      <td>116969.0</td>\n",
              "      <td>115249.562855</td>\n",
              "      <td>1719.437145</td>\n",
              "    </tr>\n",
              "    <tr>\n",
              "      <th>24</th>\n",
              "      <td>109431.0</td>\n",
              "      <td>107799.502753</td>\n",
              "      <td>1631.497247</td>\n",
              "    </tr>\n",
              "  </tbody>\n",
              "</table>\n",
              "</div>"
            ],
            "text/plain": [
              "      Actual      Predicted     varaince\n",
              "2    37731.0   40748.961841 -3017.961841\n",
              "28  122391.0  122699.622956  -308.622956\n",
              "13   57081.0   64961.657170 -7880.657170\n",
              "10   63218.0   63099.142145   118.857855\n",
              "26  116969.0  115249.562855  1719.437145\n",
              "24  109431.0  107799.502753  1631.497247"
            ]
          },
          "metadata": {},
          "execution_count": 44
        }
      ]
    },
    {
      "cell_type": "markdown",
      "metadata": {
        "id": "dnEprCxxKHz8"
      },
      "source": [
        "\n",
        " **Prediction**"
      ]
    },
    {
      "cell_type": "code",
      "metadata": {
        "id": "qwJ7iJbRKLPh"
      },
      "source": [
        "# predicting the result of 1.5 years of experience\n",
        "pred=np.array([1.5]).reshape(-1,1)"
      ],
      "execution_count": null,
      "outputs": []
    },
    {
      "cell_type": "code",
      "metadata": {
        "id": "lYSykj2aKL1i",
        "colab": {
          "base_uri": "https://localhost:8080/"
        },
        "outputId": "dbe5e86f-706d-47d7-e1aa-60fb67f943ff"
      },
      "source": [
        "reg.predict(pred)"
      ],
      "execution_count": null,
      "outputs": [
        {
          "output_type": "execute_result",
          "data": {
            "text/plain": [
              "array([40748.96184072])"
            ]
          },
          "metadata": {},
          "execution_count": 47
        }
      ]
    },
    {
      "cell_type": "code",
      "metadata": {
        "id": "KCSdDAGjKOlK",
        "colab": {
          "base_uri": "https://localhost:8080/"
        },
        "outputId": "59472c69-83f8-46c3-d164-085d5e57ccab"
      },
      "source": [
        "# predicting the result of 1.5 years of experience mathemaically\n",
        "# y=m*x+b [ m is coefficent of x i.e. slope and value is 9312.57512673 ,   b is intercept of y and value is 26780.099150628186}\n",
        "# and given that X is 1.5\n",
        "9312.57512673*1.5+26780.099150628186"
      ],
      "execution_count": null,
      "outputs": [
        {
          "output_type": "execute_result",
          "data": {
            "text/plain": [
              "40748.96184072319"
            ]
          },
          "metadata": {},
          "execution_count": 48
        }
      ]
    },
    {
      "cell_type": "markdown",
      "metadata": {
        "id": "GgAqi-neKSbB"
      },
      "source": [
        "\n",
        "**visualization**"
      ]
    },
    {
      "cell_type": "markdown",
      "metadata": {
        "id": "VVLapEgiKZjc"
      },
      "source": [
        "visualize our training model:"
      ]
    },
    {
      "cell_type": "code",
      "metadata": {
        "id": "hRJUb1wBKVr6",
        "colab": {
          "base_uri": "https://localhost:8080/",
          "height": 295
        },
        "outputId": "78ab996a-b25e-4ebd-bc39-f9eff0ff982c"
      },
      "source": [
        "plt.scatter(x_train,y_train,color='r')\n",
        "plt.plot(x_train,reg.predict(x_train),color='g')\n",
        "plt.title(\"Salary vs Experince(Training Set)\")\n",
        "plt.xlabel(\"Years of Experience\")\n",
        "plt.ylabel(\"Salary\")\n",
        "plt.grid()\n",
        "plt.show()"
      ],
      "execution_count": null,
      "outputs": [
        {
          "output_type": "display_data",
          "data": {
            "image/png": "[encoded data removed]",
            "text/plain": [
              "<Figure size 432x288 with 1 Axes>"
            ]
          },
          "metadata": {
            "needs_background": "light"
          }
        }
      ]
    },
    {
      "cell_type": "markdown",
      "metadata": {
        "id": "HlXhpgqAKXl_"
      },
      "source": [
        "visualize test set results"
      ]
    },
    {
      "cell_type": "code",
      "metadata": {
        "id": "uuApwdeJKbRs",
        "colab": {
          "base_uri": "https://localhost:8080/",
          "height": 295
        },
        "outputId": "fb71844f-be9f-480a-8de4-5d34680940a5"
      },
      "source": [
        "plt.scatter(x_test,y_test,color='r')\n",
        "plt.plot(x_train,reg.predict(x_train),color='g')\n",
        "plt.title(\"Salary vs Experince(Test Set)\")\n",
        "plt.xlabel(\"Years of Experience\")\n",
        "plt.ylabel(\"Salary\")\n",
        "plt.grid()\n",
        "plt.show()"
      ],
      "execution_count": null,
      "outputs": [
        {
          "output_type": "display_data",
          "data": {
            "image/png": "[encoded data removed]",
            "text/plain": [
              "<Figure size 432x288 with 1 Axes>"
            ]
          },
          "metadata": {
            "needs_background": "light"
          }
        }
      ]
    },
    {
      "cell_type": "markdown",
      "metadata": {
        "id": "LV5e-lMEKdDQ"
      },
      "source": [
        "\n",
        "**Evaluation metrics of regression algorithms**"
      ]
    },
    {
      "cell_type": "code",
      "metadata": {
        "id": "9cOxgXlbKegW",
        "colab": {
          "base_uri": "https://localhost:8080/"
        },
        "outputId": "d76ebdb5-5b29-41d1-ce53-9d4e4081a2c5"
      },
      "source": [
        "from sklearn.metrics import r2_score\n",
        "score = r2_score(y_test,y_pred)*100\n",
        "print('score: ',score)"
      ],
      "execution_count": null,
      "outputs": [
        {
          "output_type": "stream",
          "name": "stdout",
          "text": [
            "score:  98.8169515729126\n"
          ]
        }
      ]
    },
    {
      "cell_type": "code",
      "metadata": {
        "id": "ZKDkqa2WKgSK",
        "colab": {
          "base_uri": "https://localhost:8080/"
        },
        "outputId": "98a5f4cd-2a1d-42b2-d290-6b31bca92104"
      },
      "source": [
        "from sklearn import metrics\n",
        "print(\"Mean Absolute Error:\",metrics.mean_absolute_error(y_test,y_pred))\n",
        "print(\"Mean Squared erroe:\",metrics.mean_squared_error(y_test,y_pred))\n",
        "print(\"Root Mean squared error: \",np.sqrt(metrics.mean_squared_error(y_test,y_pred)))"
      ],
      "execution_count": null,
      "outputs": [
        {
          "output_type": "stream",
          "name": "stdout",
          "text": [
            "Mean Absolute Error: 2446.1723690465055\n",
            "Mean Squared erroe: 12823412.298126549\n",
            "Root Mean squared error:  3580.979237321343\n"
          ]
        }
      ]
    }
  ]
}